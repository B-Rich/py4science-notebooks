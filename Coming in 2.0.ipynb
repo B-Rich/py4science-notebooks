{
 "metadata": {
  "name": ""
 },
 "nbformat": 3,
 "nbformat_minor": 0,
 "worksheets": [
  {
   "cells": [
    {
     "cell_type": "markdown",
     "metadata": {},
     "source": [
      "The main milestone feature in 2.0 is interactive widgets.\n",
      "\n",
      "The first piece of this puzzle is implemented in [PR #4195](https://github.com/ipython/ipython/pull/4195)."
     ]
    },
    {
     "cell_type": "code",
     "collapsed": false,
     "input": [
      "import uuid\n",
      "\n",
      "from IPython.utils.traitlets import HasTraits, Unicode, Instance, Any, List, Float, Bool\n",
      "from IPython.kernel.comm import Comm\n",
      "\n",
      "class Widget(HasTraits):\n",
      "    target_name = Unicode(\"widget\")\n",
      "    id = Unicode()\n",
      "    def _id_default(self):\n",
      "        return 'widget-%s' % uuid.uuid4().hex\n",
      "    \n",
      "    comm = Instance(Comm)\n",
      "    def _comm_default(self):\n",
      "        data = self.data\n",
      "        data['id'] = self.id\n",
      "        return Comm(data, target_name=self.target_name)\n",
      "    \n",
      "    @property\n",
      "    def data(self):\n",
      "        return {}\n"
     ],
     "language": "python",
     "metadata": {},
     "outputs": [],
     "prompt_number": 1
    },
    {
     "cell_type": "code",
     "collapsed": false,
     "input": [
      "from IPython.display import display\n",
      "\n",
      "class RangeWidget(Widget):\n",
      "    target_name = Unicode(\"range\")\n",
      "    min = Float(0)\n",
      "    max = Float(100)\n",
      "    value = Float(50)\n",
      "    step = Float(1)\n",
      "    _keys = ['min', 'max', 'value', 'step']\n",
      "    _in_handler = Bool(False)\n",
      "    \n",
      "    def _validate_and_update(self, name, old, new):\n",
      "        if self.value > self.max:\n",
      "            raise ValueError(\"value %d exceeds max %d\" % (self.value, self.max))\n",
      "        if new < self.min:\n",
      "            raise ValueError(\"value %d below min %d\" % (self.value, self.min))\n",
      "        \n",
      "        if not self._in_handler:\n",
      "            self.update()\n",
      "    \n",
      "    def __init__(self, **kwargs):\n",
      "        super(RangeWidget, self).__init__(**kwargs)\n",
      "        self.comm.on_msg(self.handle_msg)\n",
      "        # register on_trait_change after init\n",
      "        # otherwise default values can't be specified\n",
      "        self.on_trait_change(self._validate_and_update, self._keys)\n",
      "    \n",
      "    @property\n",
      "    def data(self):\n",
      "        return {key:getattr(self, key) for key in self._keys}\n",
      "    \n",
      "    def update(self):\n",
      "        self.comm.send(self.data)\n",
      "   \n",
      "    def __repr__(self):\n",
      "        return \"<Range (%.1f) %.1f:%.1f:%.1f>\" % (self.value, self.min, self.max, self.step)\n",
      "    \n",
      "    def handle_msg(self, msg):\n",
      "        self._in_handler = True\n",
      "        data = msg['content']['data']\n",
      "        try:\n",
      "            for key in self._keys:\n",
      "                if key in data:\n",
      "                    setattr(self, key, data[key])\n",
      "        finally:\n",
      "            self._in_handler = False\n",
      "        sys.stdout.write('\\r%s' % self)\n",
      "        sys.stdout.flush()\n",
      "    \n",
      "    def _repr_html_(self):\n",
      "        return \"\"\"<div class=\"%s\"></div>\"\"\" % self.id\n",
      "    \n",
      "    def display(self):\n",
      "        display(self)\n",
      "        self.update()\n"
     ],
     "language": "python",
     "metadata": {},
     "outputs": [],
     "prompt_number": 2
    },
    {
     "cell_type": "code",
     "collapsed": false,
     "input": [
      "%%javascript\n",
      "$.getScript(\"files/mywidgets.js\");"
     ],
     "language": "python",
     "metadata": {},
     "outputs": [
      {
       "javascript": [
        "$.getScript(\"files/mywidgets.js\");"
       ],
       "metadata": {},
       "output_type": "display_data",
       "text": [
        "<IPython.core.display.Javascript at 0x10b8c1cd0>"
       ]
      }
     ],
     "prompt_number": 3
    },
    {
     "cell_type": "code",
     "collapsed": false,
     "input": [
      "r = RangeWidget()\n",
      "r.display()"
     ],
     "language": "python",
     "metadata": {},
     "outputs": [
      {
       "html": [
        "<div class=\"widget-0d98db1398da48eabb8888ceaa161794\"></div>"
       ],
       "metadata": {},
       "output_type": "display_data",
       "text": [
        "<Range (50.0) 0.0:100.0:1.0>"
       ]
      },
      {
       "output_type": "stream",
       "stream": "stdout",
       "text": [
        "\r",
        "<Range (47.0) 0.0:100.0:1.0>"
       ]
      },
      {
       "output_type": "stream",
       "stream": "stdout",
       "text": [
        "\r",
        "<Range (46.0) 0.0:100.0:1.0>"
       ]
      },
      {
       "output_type": "stream",
       "stream": "stdout",
       "text": [
        "\r",
        "<Range (43.0) 0.0:100.0:1.0>"
       ]
      },
      {
       "output_type": "stream",
       "stream": "stdout",
       "text": [
        "\r",
        "<Range (33.0) 0.0:100.0:1.0>"
       ]
      },
      {
       "output_type": "stream",
       "stream": "stdout",
       "text": [
        "\r",
        "<Range (28.0) 0.0:100.0:1.0>"
       ]
      },
      {
       "output_type": "stream",
       "stream": "stdout",
       "text": [
        "\r",
        "<Range (23.0) 0.0:100.0:1.0>"
       ]
      },
      {
       "output_type": "stream",
       "stream": "stdout",
       "text": [
        "\r",
        "<Range (20.0) 0.0:100.0:1.0>"
       ]
      },
      {
       "output_type": "stream",
       "stream": "stdout",
       "text": [
        "\r",
        "<Range (19.0) 0.0:100.0:1.0>"
       ]
      },
      {
       "output_type": "stream",
       "stream": "stdout",
       "text": [
        "\r",
        "<Range (18.0) 0.0:100.0:1.0>"
       ]
      },
      {
       "output_type": "stream",
       "stream": "stdout",
       "text": [
        "\r",
        "<Range (17.0) 0.0:100.0:1.0>"
       ]
      },
      {
       "output_type": "stream",
       "stream": "stdout",
       "text": [
        "\r",
        "<Range (18.0) 0.0:100.0:1.0>"
       ]
      },
      {
       "output_type": "stream",
       "stream": "stdout",
       "text": [
        "\r",
        "<Range (19.0) 0.0:100.0:1.0>"
       ]
      },
      {
       "output_type": "stream",
       "stream": "stdout",
       "text": [
        "\r",
        "<Range (21.0) 0.0:100.0:1.0>"
       ]
      },
      {
       "output_type": "stream",
       "stream": "stdout",
       "text": [
        "\r",
        "<Range (24.0) 0.0:100.0:1.0>"
       ]
      },
      {
       "output_type": "stream",
       "stream": "stdout",
       "text": [
        "\r",
        "<Range (28.0) 0.0:100.0:1.0>"
       ]
      },
      {
       "output_type": "stream",
       "stream": "stdout",
       "text": [
        "\r",
        "<Range (34.0) 0.0:100.0:1.0>"
       ]
      },
      {
       "output_type": "stream",
       "stream": "stdout",
       "text": [
        "\r",
        "<Range (38.0) 0.0:100.0:1.0>"
       ]
      },
      {
       "output_type": "stream",
       "stream": "stdout",
       "text": [
        "\r",
        "<Range (41.0) 0.0:100.0:1.0>"
       ]
      },
      {
       "output_type": "stream",
       "stream": "stdout",
       "text": [
        "\r",
        "<Range (47.0) 0.0:100.0:1.0>"
       ]
      },
      {
       "output_type": "stream",
       "stream": "stdout",
       "text": [
        "\r",
        "<Range (53.0) 0.0:100.0:1.0>"
       ]
      },
      {
       "output_type": "stream",
       "stream": "stdout",
       "text": [
        "\r",
        "<Range (55.0) 0.0:100.0:1.0>"
       ]
      },
      {
       "output_type": "stream",
       "stream": "stdout",
       "text": [
        "\r",
        "<Range (56.0) 0.0:100.0:1.0>"
       ]
      },
      {
       "output_type": "stream",
       "stream": "stdout",
       "text": [
        "\r",
        "<Range (58.0) 0.0:100.0:1.0>"
       ]
      },
      {
       "output_type": "stream",
       "stream": "stdout",
       "text": [
        "\r",
        "<Range (59.0) 0.0:100.0:1.0>"
       ]
      },
      {
       "output_type": "stream",
       "stream": "stdout",
       "text": [
        "\r",
        "<Range (60.0) 0.0:100.0:1.0>"
       ]
      },
      {
       "output_type": "stream",
       "stream": "stdout",
       "text": [
        "\r",
        "<Range (59.0) 0.0:100.0:1.0>"
       ]
      },
      {
       "output_type": "stream",
       "stream": "stdout",
       "text": [
        "\r",
        "<Range (56.0) 0.0:100.0:1.0>"
       ]
      },
      {
       "output_type": "stream",
       "stream": "stdout",
       "text": [
        "\r",
        "<Range (53.0) 0.0:100.0:1.0>"
       ]
      },
      {
       "output_type": "stream",
       "stream": "stdout",
       "text": [
        "\r",
        "<Range (49.0) 0.0:100.0:1.0>"
       ]
      },
      {
       "output_type": "stream",
       "stream": "stdout",
       "text": [
        "\r",
        "<Range (43.0) 0.0:100.0:1.0>"
       ]
      },
      {
       "output_type": "stream",
       "stream": "stdout",
       "text": [
        "\r",
        "<Range (38.0) 0.0:100.0:1.0>"
       ]
      },
      {
       "output_type": "stream",
       "stream": "stdout",
       "text": [
        "\r",
        "<Range (35.0) 0.0:100.0:1.0>"
       ]
      },
      {
       "output_type": "stream",
       "stream": "stdout",
       "text": [
        "\r",
        "<Range (31.0) 0.0:100.0:1.0>"
       ]
      },
      {
       "output_type": "stream",
       "stream": "stdout",
       "text": [
        "\r",
        "<Range (28.0) 0.0:100.0:1.0>"
       ]
      },
      {
       "output_type": "stream",
       "stream": "stdout",
       "text": [
        "\r",
        "<Range (23.0) 0.0:100.0:1.0>"
       ]
      },
      {
       "output_type": "stream",
       "stream": "stdout",
       "text": [
        "\r",
        "<Range (22.0) 0.0:100.0:1.0>"
       ]
      },
      {
       "output_type": "stream",
       "stream": "stdout",
       "text": [
        "\r",
        "<Range (21.0) 0.0:100.0:1.0>"
       ]
      },
      {
       "output_type": "stream",
       "stream": "stdout",
       "text": [
        "\r",
        "<Range (19.0) 0.0:100.0:1.0>"
       ]
      }
     ],
     "prompt_number": 4
    },
    {
     "cell_type": "code",
     "collapsed": false,
     "input": [
      "import math, time\n",
      "import numpy as np\n",
      "x = np.linspace(0,10,1000)\n",
      "y = 50 + (np.sin(x) * 50)\n",
      "for n in y:\n",
      "    r.value = (n)\n",
      "    time.sleep(2e-3)\n"
     ],
     "language": "python",
     "metadata": {},
     "outputs": [],
     "prompt_number": 5
    },
    {
     "cell_type": "code",
     "collapsed": false,
     "input": [
      "class FlotWidget(Widget):\n",
      "    lines = List()\n",
      "    target_name = Unicode('flotplot')\n",
      "    \n",
      "    def show(self):\n",
      "        self.comm.send(dict(lines=self.lines))\n",
      "    \n",
      "    def plot(self, x, y):\n",
      "        self.lines.append(list(zip(x,y)))\n",
      "        self.show()\n",
      "        \n",
      "    def clear(self):\n",
      "        self.lines = []\n",
      "        self.show()\n",
      "    \n",
      "    def display(self):\n",
      "        display(self)\n",
      "        self.clear()\n",
      "    \n",
      "    def _repr_html_(self):\n",
      "        return '<div id=\"%s\" class=\"flotwidget\"></div>' % self.id"
     ],
     "language": "python",
     "metadata": {},
     "outputs": [],
     "prompt_number": 6
    },
    {
     "cell_type": "code",
     "collapsed": false,
     "input": [
      "flt = FlotWidget()\n",
      "flt.display()"
     ],
     "language": "python",
     "metadata": {},
     "outputs": [
      {
       "html": [
        "<div id=\"widget-9b2e5cf84e8b4b04a26a128208971db7\" class=\"flotwidget\"></div>"
       ],
       "metadata": {},
       "output_type": "display_data",
       "text": [
        "<__main__.FlotWidget at 0x10b51a390>"
       ]
      }
     ],
     "prompt_number": 7
    },
    {
     "cell_type": "code",
     "collapsed": false,
     "input": [
      "x = np.linspace(0,5,200)\n",
      "y = np.sin(x)\n",
      "flt.plot(x,np.sin(x))\n",
      "flt.plot(x,np.cos(x))\n"
     ],
     "language": "python",
     "metadata": {},
     "outputs": [],
     "prompt_number": 8
    },
    {
     "cell_type": "code",
     "collapsed": false,
     "input": [
      "from scipy.special import jn\n",
      "flt.clear()\n",
      "for n in range(5):\n",
      "    time.sleep(0.25)\n",
      "    flt.plot(x, jn(n, x))"
     ],
     "language": "python",
     "metadata": {},
     "outputs": [],
     "prompt_number": 9
    },
    {
     "cell_type": "heading",
     "level": 1,
     "metadata": {},
     "source": [
      "Using Two Widgets together"
     ]
    },
    {
     "cell_type": "code",
     "collapsed": false,
     "input": [
      "from IPython.utils.traitlets import HasTraits, Instance, Any\n",
      "\n",
      "class SineOmegaT(HasTraits):\n",
      "    omega = Instance(RangeWidget, kw=dict(min=0, max=10, step=0.1, value=1), allow_none=False)\n",
      "    flot = Instance(FlotWidget, args=())\n",
      "    # can't use traitlets with numpy arrays\n",
      "    t = None\n",
      "    y = None\n",
      "    _in_omega_changed = False\n",
      "    \n",
      "    def _omega_value_changed(self, name, old, new):\n",
      "        self.y = np.sin(new * self.t)\n",
      "        self.show()\n",
      "    \n",
      "    def __init__(self):\n",
      "        super(SineOmegaT, self).__init__()\n",
      "        self.omega.on_trait_change(self._omega_value_changed, 'value')\n",
      "        self.t = np.linspace(0,10,400)\n",
      "        self.y = np.sin(self.omega.value * self.t)\n",
      "        # add HTML to the dom\n",
      "        display(self)\n",
      "        # ensure omega slider is drawn\n",
      "        self.omega.update()\n",
      "        self.last_draw = 0\n",
      "        self.show()\n",
      "        \n",
      "    \n",
      "    def show(self):\n",
      "        now = time.time()\n",
      "        if False and (now - self.last_draw) < 0.05:\n",
      "            return\n",
      "        self.last_draw = now\n",
      "        self.flot.lines = []\n",
      "        self.flot.plot(self.t, self.y)\n",
      "    \n",
      "    def display(self):\n",
      "        display(self)\n",
      "        self.show()\n",
      "    \n",
      "    def _repr_html_(self):\n",
      "        return u\"<div style='text-align: center; font-size: 200%%;'>$sin(\\omega t)$</div><br>%s<br>$\\omega$: %s\" % (self.flot._repr_html_(), self.omega._repr_html_())\n",
      "    "
     ],
     "language": "python",
     "metadata": {},
     "outputs": [],
     "prompt_number": 16
    },
    {
     "cell_type": "code",
     "collapsed": false,
     "input": [
      "widget = SineOmegaT()\n"
     ],
     "language": "python",
     "metadata": {},
     "outputs": [
      {
       "html": [
        "<div style='text-align: center; font-size: 200%;'>$sin(\\omega t)$</div><br><div id=\"widget-2890204d2fc84d57bb27b7ce48618f8e\" class=\"flotwidget\"></div><br>$\\omega$: <div class=\"widget-8fceb4b6469742028b32c9ae437666da\"></div>"
       ],
       "metadata": {},
       "output_type": "display_data",
       "text": [
        "<__main__.SineOmegaT at 0x10c4cf610>"
       ]
      }
     ],
     "prompt_number": 17
    },
    {
     "cell_type": "code",
     "collapsed": false,
     "input": [
      "from IPython.utils.traitlets import HasTraits, Instance, Any\n",
      "\n",
      "class BesselFunctions(HasTraits):\n",
      "    n_max = Instance(RangeWidget, kw=dict(min=1, max=10, step=1, value=1), allow_none=False)\n",
      "    x_max = Instance(RangeWidget, kw=dict(min=1, max=20, step=0.1, value=10), allow_none=False)\n",
      "    n_points = Instance(RangeWidget, kw=dict(min=10, max=500, step=1, value=100), allow_none=False)\n",
      "    flot = Instance(FlotWidget, args=())\n",
      "    last_draw = Float(0)\n",
      "    \n",
      "    _in_range_changed = False\n",
      "    \n",
      "    def _something_changed(self, name, old, new):\n",
      "        self.show()\n",
      "    \n",
      "    def __init__(self):\n",
      "        super(BesselFunctions, self).__init__()\n",
      "        # add HTML to the dom\n",
      "        display(self)\n",
      "        for r in (self.n_max, self.x_max, self.n_points):\n",
      "            r.on_trait_change(self._something_changed, 'value')\n",
      "            r.update()\n",
      "        self.show()\n",
      "        \n",
      "    \n",
      "    def show(self):\n",
      "        now = time.time()\n",
      "        if False and (now - self.last_draw) < 0.05:\n",
      "            return\n",
      "        self.last_draw = now\n",
      "        x = np.linspace(0, self.x_max.value, self.n_points.value)\n",
      "        self.flot.lines = []\n",
      "        for n in range(int(self.n_max.value)):\n",
      "            self.flot.plot(x, jn(n, x))\n",
      "    \n",
      "    def display(self):\n",
      "        display(self)\n",
      "        self.show()\n",
      "    \n",
      "    def _repr_html_(self):\n",
      "        front = []\n",
      "        back = []\n",
      "        lines = [\n",
      "            \"<div style='text-align: center; font-size: 200%%;'>$J_n(x)$</div>\",\n",
      "            \"<br/>\",\n",
      "            self.flot._repr_html_(),\n",
      "            \"<br/>\",\n",
      "            \"$n_{max}$ \",\n",
      "            self.n_max._repr_html_(),\n",
      "            \"<br/>\",\n",
      "            \"$x_{max}$ \",\n",
      "            self.x_max._repr_html_(),\n",
      "            \"<br/>\",\n",
      "            \"# of points\",\n",
      "            self.n_points._repr_html_(),\n",
      "        ]\n",
      "        return '\\n'.join(lines)\n",
      "    "
     ],
     "language": "python",
     "metadata": {},
     "outputs": [],
     "prompt_number": 20
    },
    {
     "cell_type": "code",
     "collapsed": false,
     "input": [
      "bj = BesselFunctions()"
     ],
     "language": "python",
     "metadata": {},
     "outputs": [
      {
       "html": [
        "<div style='text-align: center; font-size: 200%%;'>$J_n(x)$</div>\n",
        "<br/>\n",
        "<div id=\"widget-0b45b40d8edb437ea6e37b3b106c41b0\" class=\"flotwidget\"></div>\n",
        "<br/>\n",
        "$n_{max}$ \n",
        "<div class=\"widget-2695d5fb764a4030ade0b8df8f5345c4\"></div>\n",
        "<br/>\n",
        "$x_{max}$ \n",
        "<div class=\"widget-989f75df3d7d4fbab246c31c9ceb7f48\"></div>\n",
        "<br/>\n",
        "# of points\n",
        "<div class=\"widget-1bf3f45d146f4fe2ac5bdcefce9c9ba7\"></div>"
       ],
       "metadata": {},
       "output_type": "display_data",
       "text": [
        "<__main__.BesselFunctions at 0x10c4e2650>"
       ]
      },
      {
       "output_type": "stream",
       "stream": "stdout",
       "text": [
        "\r",
        "<Range (9.8) 1.0:20.0:0.1>"
       ]
      },
      {
       "output_type": "stream",
       "stream": "stdout",
       "text": [
        "\r",
        "<Range (9.6) 1.0:20.0:0.1>"
       ]
      },
      {
       "output_type": "stream",
       "stream": "stdout",
       "text": [
        "\r",
        "<Range (9.0) 1.0:20.0:0.1>"
       ]
      },
      {
       "output_type": "stream",
       "stream": "stdout",
       "text": [
        "\r",
        "<Range (7.4) 1.0:20.0:0.1>"
       ]
      },
      {
       "output_type": "stream",
       "stream": "stdout",
       "text": [
        "\r",
        "<Range (7.6) 1.0:20.0:0.1>"
       ]
      },
      {
       "output_type": "stream",
       "stream": "stdout",
       "text": [
        "\r",
        "<Range (7.7) 1.0:20.0:0.1>"
       ]
      },
      {
       "output_type": "stream",
       "stream": "stdout",
       "text": [
        "\r",
        "<Range (9.5) 1.0:20.0:0.1>"
       ]
      },
      {
       "output_type": "stream",
       "stream": "stdout",
       "text": [
        "\r",
        "<Range (10.1) 1.0:20.0:0.1>"
       ]
      },
      {
       "output_type": "stream",
       "stream": "stdout",
       "text": [
        "\r",
        "<Range (10.4) 1.0:20.0:0.1>"
       ]
      },
      {
       "output_type": "stream",
       "stream": "stdout",
       "text": [
        "\r",
        "<Range (11.6) 1.0:20.0:0.1>"
       ]
      },
      {
       "output_type": "stream",
       "stream": "stdout",
       "text": [
        "\r",
        "<Range (11.9) 1.0:20.0:0.1>"
       ]
      },
      {
       "output_type": "stream",
       "stream": "stdout",
       "text": [
        "\r",
        "<Range (12.4) 1.0:20.0:0.1>"
       ]
      },
      {
       "output_type": "stream",
       "stream": "stdout",
       "text": [
        "\r",
        "<Range (13.9) 1.0:20.0:0.1>"
       ]
      },
      {
       "output_type": "stream",
       "stream": "stdout",
       "text": [
        "\r",
        "<Range (14.3) 1.0:20.0:0.1>"
       ]
      },
      {
       "output_type": "stream",
       "stream": "stdout",
       "text": [
        "\r",
        "<Range (15.0) 1.0:20.0:0.1>"
       ]
      },
      {
       "output_type": "stream",
       "stream": "stdout",
       "text": [
        "\r",
        "<Range (15.6) 1.0:20.0:0.1>"
       ]
      },
      {
       "output_type": "stream",
       "stream": "stdout",
       "text": [
        "\r",
        "<Range (16.5) 1.0:20.0:0.1>"
       ]
      },
      {
       "output_type": "stream",
       "stream": "stdout",
       "text": [
        "\r",
        "<Range (16.9) 1.0:20.0:0.1>"
       ]
      },
      {
       "output_type": "stream",
       "stream": "stdout",
       "text": [
        "\r",
        "<Range (17.0) 1.0:20.0:0.1>"
       ]
      },
      {
       "output_type": "stream",
       "stream": "stdout",
       "text": [
        "\r",
        "<Range (2.0) 1.0:10.0:1.0>"
       ]
      },
      {
       "output_type": "stream",
       "stream": "stdout",
       "text": [
        "\r",
        "<Range (3.0) 1.0:10.0:1.0>"
       ]
      },
      {
       "output_type": "stream",
       "stream": "stdout",
       "text": [
        "\r",
        "<Range (4.0) 1.0:10.0:1.0>"
       ]
      },
      {
       "output_type": "stream",
       "stream": "stdout",
       "text": [
        "\r",
        "<Range (6.0) 1.0:10.0:1.0>"
       ]
      },
      {
       "output_type": "stream",
       "stream": "stdout",
       "text": [
        "\r",
        "<Range (7.0) 1.0:10.0:1.0>"
       ]
      },
      {
       "output_type": "stream",
       "stream": "stdout",
       "text": [
        "\r",
        "<Range (8.0) 1.0:10.0:1.0>"
       ]
      },
      {
       "output_type": "stream",
       "stream": "stdout",
       "text": [
        "\r",
        "<Range (2.0) 1.0:10.0:1.0>"
       ]
      },
      {
       "output_type": "stream",
       "stream": "stdout",
       "text": [
        "\r",
        "<Range (4.0) 1.0:10.0:1.0>"
       ]
      },
      {
       "output_type": "stream",
       "stream": "stdout",
       "text": [
        "\r",
        "<Range (94.0) 10.0:500.0:1.0>"
       ]
      },
      {
       "output_type": "stream",
       "stream": "stdout",
       "text": [
        "\r",
        "<Range (91.0) 10.0:500.0:1.0>"
       ]
      },
      {
       "output_type": "stream",
       "stream": "stdout",
       "text": [
        "\r",
        "<Range (58.0) 10.0:500.0:1.0>"
       ]
      },
      {
       "output_type": "stream",
       "stream": "stdout",
       "text": [
        "\r",
        "<Range (338.0) 10.0:500.0:1.0>"
       ]
      }
     ],
     "prompt_number": 21
    }
   ],
   "metadata": {}
  }
 ]
}